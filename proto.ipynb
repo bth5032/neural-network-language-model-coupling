{
 "cells": [
  {
   "cell_type": "code",
   "execution_count": 1,
   "metadata": {},
   "outputs": [
    {
     "name": "stderr",
     "output_type": "stream",
     "text": [
      "d:\\Projects\\AIStuff\\explaining_network_operations_with_CLIP\\venv\\lib\\site-packages\\tqdm\\auto.py:22: TqdmWarning: IProgress not found. Please update jupyter and ipywidgets. See https://ipywidgets.readthedocs.io/en/stable/user_install.html\n",
      "  from .autonotebook import tqdm as notebook_tqdm\n"
     ]
    }
   ],
   "source": [
    "import transformers, torch"
   ]
  },
  {
   "cell_type": "markdown",
   "metadata": {},
   "source": [
    "## Setup GPT-2\n",
    "\n",
    "Using HuggingFace `distillgpt2` model, we setup a pretrained language model, therefore a model that already contains a good bit of sematic information about the words in text."
   ]
  },
  {
   "cell_type": "code",
   "execution_count": 2,
   "metadata": {},
   "outputs": [],
   "source": [
    "tokenizer = transformers.AutoTokenizer.from_pretrained(\"distilgpt2\")\n",
    "def preprocess_function(examples):\n",
    "  return tokenizer([\" \".join(x) for x in examples[\"answers.text\"]], truncation=True)\n",
    "tokenizer.pad_token = tokenizer.eos_token\n",
    "data_collator = transformers.DataCollatorForLanguageModeling(tokenizer=tokenizer, mlm=False)"
   ]
  },
  {
   "cell_type": "code",
   "execution_count": 31,
   "metadata": {},
   "outputs": [],
   "source": [
    "model = transformers.AutoModelForCausalLM.from_pretrained(\"distilgpt2\")\n",
    "model.eval()"
   ]
  },
  {
   "cell_type": "code",
   "execution_count": 49,
   "metadata": {},
   "outputs": [
    {
     "name": "stderr",
     "output_type": "stream",
     "text": [
      "Setting `pad_token_id` to `eos_token_id`:50256 for open-end generation.\n"
     ]
    },
    {
     "data": {
      "text/plain": [
       "'Hi this is a sentence that will be a good part of the year, and I can not wait to finish this week!\\n\\nThis blog has also been updated with news of the death of our editor-in-chief Jonathan Chait. Here'"
      ]
     },
     "execution_count": 49,
     "metadata": {},
     "output_type": "execute_result"
    }
   ],
   "source": [
    "inputs=tokenizer(\"Hi this is a sentence\")\n",
    "outputs = model.generate(input_ids=torch.LongTensor([inputs[\"input_ids\"],]), max_length=50)\n",
    "tokenizer.decode(outputs[0], skip_special_tokens=True, clean_up_tokenization_spaces=True)"
   ]
  },
  {
   "cell_type": "code",
   "execution_count": 51,
   "metadata": {},
   "outputs": [
    {
     "name": "stderr",
     "output_type": "stream",
     "text": [
      "Setting `pad_token_id` to `eos_token_id`:50256 for open-end generation.\n"
     ]
    },
    {
     "data": {
      "text/plain": [
       "[{'generated_text': 'Hi this is a sentence we used because the words (e.g.,) are not a sentence we used because the phrase \"the world\" is not a sentence we used because the term \"the world\" can be applied. For instance, this'}]"
      ]
     },
     "execution_count": 51,
     "metadata": {},
     "output_type": "execute_result"
    }
   ],
   "source": [
    "# Alternate method for doing inferrence, might be useful after the model is trained.\n",
    "# Can essentially make the adaptor and image model part of a tokenizer\n",
    "inferer = transformers.pipeline(task=\"text-generation\", model=model, tokenizer=tokenizer)\n",
    "inferer(\"Hi this is a sentence\")"
   ]
  },
  {
   "cell_type": "code",
   "execution_count": null,
   "metadata": {},
   "outputs": [],
   "source": []
  }
 ],
 "metadata": {
  "interpreter": {
   "hash": "7f2f29bef5d61ebb73879cc39ec857a8234620986283d2acd27d7829f14b9e6d"
  },
  "kernelspec": {
   "display_name": "Python 3.9.1 ('venv': venv)",
   "language": "python",
   "name": "python3"
  },
  "language_info": {
   "codemirror_mode": {
    "name": "ipython",
    "version": 3
   },
   "file_extension": ".py",
   "mimetype": "text/x-python",
   "name": "python",
   "nbconvert_exporter": "python",
   "pygments_lexer": "ipython3",
   "version": "3.9.1"
  },
  "orig_nbformat": 4
 },
 "nbformat": 4,
 "nbformat_minor": 2
}
